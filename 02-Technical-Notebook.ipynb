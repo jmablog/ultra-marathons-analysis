{
 "cells": [
  {
   "cell_type": "raw",
   "id": "2fabadb5",
   "metadata": {},
   "source": [
    "---\n",
    "# Quarto options for pretty HTML generation\n",
    "title: \"Technical Notebook\"\n",
    "filters:\n",
    "  - _resources/scripts/shortcodes.lua\n",
    "standalone: true\n",
    "self-contained: true\n",
    "# execute: false\n",
    "# jupyter: python3\n",
    "format:\n",
    "  html:\n",
    "    theme:\n",
    "      - litera\n",
    "      - _resources/templates/notebook-theme.scss\n",
    "    toc: true # turn table of contents on/off\n",
    "    toc-title: Contents\n",
    "    anchor-sections: true\n",
    "    # code-fold: show\n",
    "    # code-summary: \"Code:\"\n",
    "---"
   ]
  },
  {
   "cell_type": "markdown",
   "id": "4ff673ff",
   "metadata": {},
   "source": [
    "## Contents"
   ]
  },
  {
   "cell_type": "markdown",
   "id": "cf80ad33",
   "metadata": {},
   "source": [
    "- [Setup](#setup)\n",
    "- [Problem statement](#problem-statement)\n",
    "- [Model setup](#model-setup)\n",
    "  - [Initial cross-validation](#initial-cross-validation)\n",
    "  - [Feature selection](#feature-selection)\n",
    "- [Model creation and testing](#model-creation-and-testing)\n",
    "  - [Comparing to baseline](#comparing-to-baseline)\n",
    "- [Practical use](#practical-use)\n",
    "- [Bonus - Ridge Regression](#bonus---ridge-regression)\n",
    "    "
   ]
  },
  {
   "cell_type": "markdown",
   "id": "3ca3104e",
   "metadata": {},
   "source": [
    "## Setup"
   ]
  },
  {
   "cell_type": "code",
   "execution_count": 1,
   "id": "3b76f172",
   "metadata": {},
   "outputs": [],
   "source": [
    "# load libraries\n",
    "\n",
    "import math\n",
    "import pandas as pd\n",
    "import numpy as np\n",
    "import seaborn as sns\n",
    "import matplotlib.pyplot as plt\n",
    "\n",
    "# model requirements\n",
    "from sklearn import metrics\n",
    "from sklearn.model_selection import train_test_split\n",
    "from sklearn.model_selection import cross_validate\n",
    "from sklearn.model_selection import KFold\n",
    "from sklearn.linear_model import LinearRegression\n",
    "from sklearn.pipeline import make_pipeline\n",
    "from sklearn.feature_selection import SelectKBest, f_regression\n",
    "from sklearn.dummy import DummyRegressor\n",
    "\n",
    "# some models were throwing warnings, suppress them\n",
    "import warnings\n",
    "warnings.filterwarnings(action='ignore')\n",
    "\n",
    "# plot options\n",
    "%matplotlib inline\n",
    "# set overall plot style\n",
    "sns.set_theme(style='white', palette='muted', font='sans-serif', font_scale=2.5)\n",
    "plt.rcParams['figure.facecolor'] = '#FFF8E7'\n",
    "plt.rcParams['axes.facecolor'] = '#FFFEFA'\n",
    "# specify a custom font and properties for axes\n",
    "plt.rcParams['font.family'] = 'sans-serif'\n",
    "plt.rcParams['font.sans-serif'] = 'Inter'\n",
    "plt.rcParams['axes.labelcolor'] = '#991410'\n",
    "plt.rcParams['axes.labelweight'] = 'bold'\n",
    "plt.rcParams['axes.labelpad'] = 15\n",
    "# increase figure size\n",
    "plt.rcParams['figure.figsize'] = (25,12)\n",
    "\n",
    "# read the cleaned data in\n",
    "results = pd.read_csv('data/detailed_results.csv').drop(columns='Unnamed: 0')\n",
    "dnfs = pd.read_csv('data/detailed_dnfs.csv').drop(columns='Unnamed: 0')\n",
    "\n",
    "# set display to 2 decimal places in dataframes\n",
    "pd.set_option(\"display.precision\", 2)\n",
    "pd.set_option('display.float_format', lambda x: '%.2f' % x)"
   ]
  },
  {
   "cell_type": "markdown",
   "id": "2b42ad1f",
   "metadata": {},
   "source": [
    "## Problem statement\n",
    "\n",
    "**Can you predict the finishing time of a given athlete profile for a given race?**"
   ]
  },
  {
   "cell_type": "markdown",
   "id": "c9d03a28",
   "metadata": {},
   "source": [
    "## Model setup"
   ]
  },
  {
   "cell_type": "markdown",
   "id": "42b2da12",
   "metadata": {},
   "source": [
    "This model aims to estimate a runner's finishing time in seconds for a race. Possible features for the model are the runner's age, gender, and nationality along with race distance, elevation, no. of aid stations, no. of participants, and race location (city)."
   ]
  },
  {
   "cell_type": "code",
   "execution_count": 2,
   "id": "2ac3ad96",
   "metadata": {},
   "outputs": [],
   "source": [
    "# select just the columns we need\n",
    "data = results[['time_in_seconds', 'age', 'gender', 'nationality',\n",
    "                'city', 'distance', 'elevation_gain', 'elevation_loss',\n",
    "                'aid_stations', 'participants']]"
   ]
  },
  {
   "cell_type": "markdown",
   "id": "a71abe3d",
   "metadata": {},
   "source": [
    "As there are 3 categorical variables in our dataset (gender, nationality, city), we need to convert them into dummy variables using one-hot encoding. This expands the categories to become features themselves, with a `0` encoding the athlete does not belong to that category, and a `1` encoding membership of a category."
   ]
  },
  {
   "cell_type": "code",
   "execution_count": 3,
   "id": "79882075",
   "metadata": {},
   "outputs": [
    {
     "data": {
      "text/html": [
       "<div>\n",
       "<style scoped>\n",
       "    .dataframe tbody tr th:only-of-type {\n",
       "        vertical-align: middle;\n",
       "    }\n",
       "\n",
       "    .dataframe tbody tr th {\n",
       "        vertical-align: top;\n",
       "    }\n",
       "\n",
       "    .dataframe thead th {\n",
       "        text-align: right;\n",
       "    }\n",
       "</style>\n",
       "<table border=\"1\" class=\"dataframe\">\n",
       "  <thead>\n",
       "    <tr style=\"text-align: right;\">\n",
       "      <th></th>\n",
       "      <th>time</th>\n",
       "      <th>runner_age</th>\n",
       "      <th>distance</th>\n",
       "      <th>elevation_gain</th>\n",
       "      <th>elevation_loss</th>\n",
       "      <th>aid_stations</th>\n",
       "      <th>participants</th>\n",
       "      <th>runner_gender</th>\n",
       "      <th>runner_nationality_AND</th>\n",
       "      <th>runner_nationality_ARG</th>\n",
       "      <th>...</th>\n",
       "      <th>city_Yibin</th>\n",
       "      <th>city_Yichang</th>\n",
       "      <th>city_Ystad</th>\n",
       "      <th>city_Zagreb</th>\n",
       "      <th>city_Zalesie</th>\n",
       "      <th>city_Zhaotong</th>\n",
       "      <th>city_Äkäslompolo</th>\n",
       "      <th>city_Åsa</th>\n",
       "      <th>city_Örebro</th>\n",
       "      <th>city_İstanbul</th>\n",
       "    </tr>\n",
       "  </thead>\n",
       "  <tbody>\n",
       "    <tr>\n",
       "      <th>0</th>\n",
       "      <td>95725.00</td>\n",
       "      <td>30</td>\n",
       "      <td>166.90</td>\n",
       "      <td>4520</td>\n",
       "      <td>-4520</td>\n",
       "      <td>10</td>\n",
       "      <td>150</td>\n",
       "      <td>0</td>\n",
       "      <td>0</td>\n",
       "      <td>0</td>\n",
       "      <td>...</td>\n",
       "      <td>0</td>\n",
       "      <td>0</td>\n",
       "      <td>0</td>\n",
       "      <td>0</td>\n",
       "      <td>0</td>\n",
       "      <td>0</td>\n",
       "      <td>0</td>\n",
       "      <td>0</td>\n",
       "      <td>0</td>\n",
       "      <td>0</td>\n",
       "    </tr>\n",
       "    <tr>\n",
       "      <th>1</th>\n",
       "      <td>97229.00</td>\n",
       "      <td>43</td>\n",
       "      <td>166.90</td>\n",
       "      <td>4520</td>\n",
       "      <td>-4520</td>\n",
       "      <td>10</td>\n",
       "      <td>150</td>\n",
       "      <td>0</td>\n",
       "      <td>0</td>\n",
       "      <td>0</td>\n",
       "      <td>...</td>\n",
       "      <td>0</td>\n",
       "      <td>0</td>\n",
       "      <td>0</td>\n",
       "      <td>0</td>\n",
       "      <td>0</td>\n",
       "      <td>0</td>\n",
       "      <td>0</td>\n",
       "      <td>0</td>\n",
       "      <td>0</td>\n",
       "      <td>0</td>\n",
       "    </tr>\n",
       "    <tr>\n",
       "      <th>2</th>\n",
       "      <td>103747.00</td>\n",
       "      <td>38</td>\n",
       "      <td>166.90</td>\n",
       "      <td>4520</td>\n",
       "      <td>-4520</td>\n",
       "      <td>10</td>\n",
       "      <td>150</td>\n",
       "      <td>0</td>\n",
       "      <td>0</td>\n",
       "      <td>0</td>\n",
       "      <td>...</td>\n",
       "      <td>0</td>\n",
       "      <td>0</td>\n",
       "      <td>0</td>\n",
       "      <td>0</td>\n",
       "      <td>0</td>\n",
       "      <td>0</td>\n",
       "      <td>0</td>\n",
       "      <td>0</td>\n",
       "      <td>0</td>\n",
       "      <td>0</td>\n",
       "    </tr>\n",
       "    <tr>\n",
       "      <th>3</th>\n",
       "      <td>111217.00</td>\n",
       "      <td>55</td>\n",
       "      <td>166.90</td>\n",
       "      <td>4520</td>\n",
       "      <td>-4520</td>\n",
       "      <td>10</td>\n",
       "      <td>150</td>\n",
       "      <td>1</td>\n",
       "      <td>0</td>\n",
       "      <td>0</td>\n",
       "      <td>...</td>\n",
       "      <td>0</td>\n",
       "      <td>0</td>\n",
       "      <td>0</td>\n",
       "      <td>0</td>\n",
       "      <td>0</td>\n",
       "      <td>0</td>\n",
       "      <td>0</td>\n",
       "      <td>0</td>\n",
       "      <td>0</td>\n",
       "      <td>0</td>\n",
       "    </tr>\n",
       "    <tr>\n",
       "      <th>4</th>\n",
       "      <td>117981.00</td>\n",
       "      <td>48</td>\n",
       "      <td>166.90</td>\n",
       "      <td>4520</td>\n",
       "      <td>-4520</td>\n",
       "      <td>10</td>\n",
       "      <td>150</td>\n",
       "      <td>1</td>\n",
       "      <td>0</td>\n",
       "      <td>0</td>\n",
       "      <td>...</td>\n",
       "      <td>0</td>\n",
       "      <td>0</td>\n",
       "      <td>0</td>\n",
       "      <td>0</td>\n",
       "      <td>0</td>\n",
       "      <td>0</td>\n",
       "      <td>0</td>\n",
       "      <td>0</td>\n",
       "      <td>0</td>\n",
       "      <td>0</td>\n",
       "    </tr>\n",
       "  </tbody>\n",
       "</table>\n",
       "<p>5 rows × 430 columns</p>\n",
       "</div>"
      ],
      "text/plain": [
       "       time  runner_age  distance  elevation_gain  elevation_loss  \\\n",
       "0  95725.00          30    166.90            4520           -4520   \n",
       "1  97229.00          43    166.90            4520           -4520   \n",
       "2 103747.00          38    166.90            4520           -4520   \n",
       "3 111217.00          55    166.90            4520           -4520   \n",
       "4 117981.00          48    166.90            4520           -4520   \n",
       "\n",
       "   aid_stations  participants  runner_gender  runner_nationality_AND  \\\n",
       "0            10           150              0                       0   \n",
       "1            10           150              0                       0   \n",
       "2            10           150              0                       0   \n",
       "3            10           150              1                       0   \n",
       "4            10           150              1                       0   \n",
       "\n",
       "   runner_nationality_ARG  ...  city_Yibin  city_Yichang  city_Ystad  \\\n",
       "0                       0  ...           0             0           0   \n",
       "1                       0  ...           0             0           0   \n",
       "2                       0  ...           0             0           0   \n",
       "3                       0  ...           0             0           0   \n",
       "4                       0  ...           0             0           0   \n",
       "\n",
       "   city_Zagreb  city_Zalesie  city_Zhaotong  city_Äkäslompolo  city_Åsa  \\\n",
       "0            0             0              0                 0         0   \n",
       "1            0             0              0                 0         0   \n",
       "2            0             0              0                 0         0   \n",
       "3            0             0              0                 0         0   \n",
       "4            0             0              0                 0         0   \n",
       "\n",
       "   city_Örebro  city_İstanbul  \n",
       "0            0              0  \n",
       "1            0              0  \n",
       "2            0              0  \n",
       "3            0              0  \n",
       "4            0              0  \n",
       "\n",
       "[5 rows x 430 columns]"
      ]
     },
     "execution_count": 3,
     "metadata": {},
     "output_type": "execute_result"
    }
   ],
   "source": [
    "# dummify categorical variables: runner gender, runner nationality, race city\n",
    "# by default get_dummies only encodes non-numeric features of a dataframe\n",
    "data_dm = pd.get_dummies(data, drop_first=True)\n",
    "\n",
    "# tidy up some column names\n",
    "data_dm.rename(columns={\"time_in_seconds\": \"time\",\n",
    "                        \"age\": \"runner_age\",\n",
    "                        \"gender_W\": \"runner_gender\"},\n",
    "               inplace=True)\n",
    "data_dm.rename(columns=lambda x: x.replace(\"nationality\", \"runner_nationality\"), inplace=True)\n",
    "\n",
    "data_dm.head(5)"
   ]
  },
  {
   "cell_type": "markdown",
   "id": "95264930",
   "metadata": {},
   "source": [
    "This encoded data can then be split into training and testing sets, with the testing set put aside until a model is trained for final testing. The sets `X_train` and `y_train` become the data on which the model will be trained."
   ]
  },
  {
   "cell_type": "code",
   "execution_count": 4,
   "id": "f380815c",
   "metadata": {},
   "outputs": [],
   "source": [
    "# training / test split\n",
    "\n",
    "X = data_dm.drop(columns='time')\n",
    "y = data_dm.time\n",
    "\n",
    "X_train, X_test, y_train, y_test = train_test_split(X, y, random_state=2022)"
   ]
  },
  {
   "cell_type": "markdown",
   "id": "51718049",
   "metadata": {},
   "source": [
    "### Initial cross-validation"
   ]
  },
  {
   "cell_type": "markdown",
   "id": "d258dd89",
   "metadata": {},
   "source": [
    "While the testing data is put aside, the training data can itself be further split and shuffled to provide a validation score for how a model deals with new, 'unknown' data. This is done with KFold validation."
   ]
  },
  {
   "cell_type": "code",
   "execution_count": 5,
   "id": "d3552a0f",
   "metadata": {},
   "outputs": [],
   "source": [
    "# instantiate model and K-fold cross validation object\n",
    "lr = LinearRegression()\n",
    "kf = KFold(n_splits=5, shuffle=True, random_state=2022)"
   ]
  },
  {
   "cell_type": "code",
   "execution_count": 6,
   "id": "53bc6d95",
   "metadata": {},
   "outputs": [
    {
     "name": "stdout",
     "output_type": "stream",
     "text": [
      "\n",
      "----- Cross Validation Results -----\n",
      "Train RMSE: 18669.24176487618\n",
      "Train RMSE as hours: 5.185900490243384\n",
      "Train R2: 0.7445142195526304\n",
      "Test RMSE: 6292082509.582213\n",
      "Test RMSE as hours: 1747800.6971061705\n",
      "Test R2: -56745276872.53794\n",
      "-------------------------------------\n",
      "\n"
     ]
    }
   ],
   "source": [
    "# perform cross validation\n",
    "val_scores = cross_validate(lr, X_train, y_train, cv=kf, scoring=('r2', 'neg_mean_squared_error'), return_train_score=True)\n",
    "\n",
    "print(f\"\"\"\n",
    "----- Cross Validation Results -----\n",
    "Train RMSE: {np.sqrt(-val_scores['train_neg_mean_squared_error']).mean()}\n",
    "Train RMSE as hours: {np.sqrt(-val_scores['train_neg_mean_squared_error']).mean()/3600}\n",
    "Train R2: {val_scores['train_r2'].mean()}\n",
    "Test RMSE: {np.sqrt(-val_scores['test_neg_mean_squared_error']).mean()}\n",
    "Test RMSE as hours: {np.sqrt(-val_scores['test_neg_mean_squared_error']).mean()/3600}\n",
    "Test R2: {val_scores['test_r2'].mean()}\n",
    "-------------------------------------\n",
    "\"\"\")"
   ]
  },
  {
   "cell_type": "markdown",
   "id": "587de1e6",
   "metadata": {},
   "source": [
    "This cross validation shows that the model averages a solid training R2 of ~74% but a staggeringly bad testing R2 (which can be infinitely negative \"because the model can be arbitrarily worse\"). RMSEs for testing is also large, even when converted from seconds to a slightly more practically useful measure of hours.\n",
    "\n",
    "This terrible 'real life' score from validation is most likely because the data is massively overfitted to the training data with all those variables. So what features are important to keep?"
   ]
  },
  {
   "cell_type": "markdown",
   "id": "97a07ab7",
   "metadata": {},
   "source": [
    "### Feature selection"
   ]
  },
  {
   "cell_type": "markdown",
   "id": "1a6c0218",
   "metadata": {},
   "source": [
    "As there are so many features in the data as a result of the dummy encoding, it may not be practical to investigate their impact on the model manually by inspecting coefficients. It would be a shame to potentially lose the information contained in the categorical variables, so I decided to investigate an automated way to see how many and which variables should be included in the model using a pipeline to apply a `SelectKBest` function to the data prior to model fitting.\n",
    "\n"
   ]
  },
  {
   "cell_type": "code",
   "execution_count": 7,
   "id": "f7b85f7b",
   "metadata": {},
   "outputs": [],
   "source": [
    "# =======\n",
    "# WARNING\n",
    "# =======\n",
    "# This cell takes a long time to run!\n",
    "\n",
    "# create dictionaries to store results\n",
    "scores = {}\n",
    "rmses = {}\n",
    "\n",
    "# loop through all the possible numbers of variables included in the model,\n",
    "# fit each one using a pipeline with SelectKBest and a Linear Regression model,\n",
    "# and store the results in the dictionaries\n",
    "for n in range(1, 430):\n",
    "\tlr_selected = make_pipeline(SelectKBest(f_regression, k=n), LinearRegression())\n",
    "\tlr_selected.fit(X_train, y_train)\n",
    "\tscore = lr_selected.score(X_test, y_test)\n",
    "\tscores[str(n)] = score\n",
    "\trmse = np.sqrt(metrics.mean_squared_error(y_test, lr_selected.predict(X_test)))\n",
    "\trmses[str(n)] = rmse"
   ]
  },
  {
   "cell_type": "markdown",
   "id": "25f99edc",
   "metadata": {},
   "source": [
    "Once this code is run, what number of features is found to produce the best model results?"
   ]
  },
  {
   "cell_type": "code",
   "execution_count": 8,
   "id": "1bd94c21",
   "metadata": {},
   "outputs": [
    {
     "data": {
      "image/png": "[encoded data removed]",
      "text/plain": [
       "<Figure size 1800x864 with 2 Axes>"
      ]
     },
     "metadata": {},
     "output_type": "display_data"
    }
   ],
   "source": [
    "# for convenience, save the results in a dataframe\n",
    "# and save to csv for use in presentation without re-running feature selection code\n",
    "feature_scores = pd.DataFrame(data={\"r2\": scores.values(), \"rmse\": rmses.values()}, index=scores.keys())\n",
    "\n",
    "feature_scores.to_csv('data/feature_scores.csv')\n",
    "\n",
    "# this can also be used to extract the features with a positive score for plotting\n",
    "r2_vals = feature_scores.r2[feature_scores.r2 > 0.5]\n",
    "rmse_vals = feature_scores.rmse[feature_scores.r2 > 0.5]\n",
    "x_vals = feature_scores[feature_scores.r2 > 0.5].index.astype(int)\n",
    "\n",
    "# plot the results of the feature selection\n",
    "fig, ax1 = plt.subplots()\n",
    "\n",
    "ax2 = ax1.twinx()\n",
    "sns.lineplot(x_vals, r2_vals, ax=ax1, label='R2', color='#309FC9', linewidth=3, legend=False)\n",
    "sns.lineplot(x_vals, rmse_vals, ax=ax2, label='RMSE', color='#149910', linewidth=3, legend=False)\n",
    "\n",
    "ax1.set_xlabel('No. of Features')\n",
    "ax1.set_ylabel('R2', color='#309FC9')\n",
    "ax2.set_ylabel('RMSE', color='#149910')\n",
    "\n",
    "plt.show()"
   ]
  },
  {
   "cell_type": "code",
   "execution_count": 9,
   "id": "bc1f9adb",
   "metadata": {},
   "outputs": [
    {
     "data": {
      "text/html": [
       "<div>\n",
       "<style scoped>\n",
       "    .dataframe tbody tr th:only-of-type {\n",
       "        vertical-align: middle;\n",
       "    }\n",
       "\n",
       "    .dataframe tbody tr th {\n",
       "        vertical-align: top;\n",
       "    }\n",
       "\n",
       "    .dataframe thead th {\n",
       "        text-align: right;\n",
       "    }\n",
       "</style>\n",
       "<table border=\"1\" class=\"dataframe\">\n",
       "  <thead>\n",
       "    <tr style=\"text-align: right;\">\n",
       "      <th></th>\n",
       "      <th>r2</th>\n",
       "      <th>rmse</th>\n",
       "    </tr>\n",
       "  </thead>\n",
       "  <tbody>\n",
       "    <tr>\n",
       "      <th>406</th>\n",
       "      <td>0.74</td>\n",
       "      <td>18952.05</td>\n",
       "    </tr>\n",
       "    <tr>\n",
       "      <th>408</th>\n",
       "      <td>0.74</td>\n",
       "      <td>18952.35</td>\n",
       "    </tr>\n",
       "    <tr>\n",
       "      <th>407</th>\n",
       "      <td>0.74</td>\n",
       "      <td>18952.35</td>\n",
       "    </tr>\n",
       "    <tr>\n",
       "      <th>409</th>\n",
       "      <td>0.74</td>\n",
       "      <td>18952.44</td>\n",
       "    </tr>\n",
       "    <tr>\n",
       "      <th>410</th>\n",
       "      <td>0.74</td>\n",
       "      <td>18952.51</td>\n",
       "    </tr>\n",
       "    <tr>\n",
       "      <th>411</th>\n",
       "      <td>0.74</td>\n",
       "      <td>18952.70</td>\n",
       "    </tr>\n",
       "    <tr>\n",
       "      <th>419</th>\n",
       "      <td>0.74</td>\n",
       "      <td>18953.98</td>\n",
       "    </tr>\n",
       "    <tr>\n",
       "      <th>417</th>\n",
       "      <td>0.74</td>\n",
       "      <td>18954.06</td>\n",
       "    </tr>\n",
       "    <tr>\n",
       "      <th>418</th>\n",
       "      <td>0.74</td>\n",
       "      <td>18954.16</td>\n",
       "    </tr>\n",
       "    <tr>\n",
       "      <th>420</th>\n",
       "      <td>0.74</td>\n",
       "      <td>18954.30</td>\n",
       "    </tr>\n",
       "  </tbody>\n",
       "</table>\n",
       "</div>"
      ],
      "text/plain": [
       "      r2     rmse\n",
       "406 0.74 18952.05\n",
       "408 0.74 18952.35\n",
       "407 0.74 18952.35\n",
       "409 0.74 18952.44\n",
       "410 0.74 18952.51\n",
       "411 0.74 18952.70\n",
       "419 0.74 18953.98\n",
       "417 0.74 18954.06\n",
       "418 0.74 18954.16\n",
       "420 0.74 18954.30"
      ]
     },
     "execution_count": 9,
     "metadata": {},
     "output_type": "execute_result"
    }
   ],
   "source": [
    "# check the top 10 R2 value results\n",
    "feature_scores.sort_values(by='r2', ascending=False).head(10)"
   ]
  },
  {
   "cell_type": "code",
   "execution_count": 10,
   "id": "09093d4f",
   "metadata": {},
   "outputs": [
    {
     "data": {
      "text/html": [
       "<div>\n",
       "<style scoped>\n",
       "    .dataframe tbody tr th:only-of-type {\n",
       "        vertical-align: middle;\n",
       "    }\n",
       "\n",
       "    .dataframe tbody tr th {\n",
       "        vertical-align: top;\n",
       "    }\n",
       "\n",
       "    .dataframe thead th {\n",
       "        text-align: right;\n",
       "    }\n",
       "</style>\n",
       "<table border=\"1\" class=\"dataframe\">\n",
       "  <thead>\n",
       "    <tr style=\"text-align: right;\">\n",
       "      <th></th>\n",
       "      <th>r2</th>\n",
       "      <th>rmse</th>\n",
       "    </tr>\n",
       "  </thead>\n",
       "  <tbody>\n",
       "    <tr>\n",
       "      <th>406</th>\n",
       "      <td>0.74</td>\n",
       "      <td>18952.05</td>\n",
       "    </tr>\n",
       "    <tr>\n",
       "      <th>408</th>\n",
       "      <td>0.74</td>\n",
       "      <td>18952.35</td>\n",
       "    </tr>\n",
       "    <tr>\n",
       "      <th>407</th>\n",
       "      <td>0.74</td>\n",
       "      <td>18952.35</td>\n",
       "    </tr>\n",
       "    <tr>\n",
       "      <th>409</th>\n",
       "      <td>0.74</td>\n",
       "      <td>18952.44</td>\n",
       "    </tr>\n",
       "    <tr>\n",
       "      <th>410</th>\n",
       "      <td>0.74</td>\n",
       "      <td>18952.51</td>\n",
       "    </tr>\n",
       "    <tr>\n",
       "      <th>411</th>\n",
       "      <td>0.74</td>\n",
       "      <td>18952.70</td>\n",
       "    </tr>\n",
       "    <tr>\n",
       "      <th>419</th>\n",
       "      <td>0.74</td>\n",
       "      <td>18953.98</td>\n",
       "    </tr>\n",
       "    <tr>\n",
       "      <th>417</th>\n",
       "      <td>0.74</td>\n",
       "      <td>18954.06</td>\n",
       "    </tr>\n",
       "    <tr>\n",
       "      <th>418</th>\n",
       "      <td>0.74</td>\n",
       "      <td>18954.16</td>\n",
       "    </tr>\n",
       "    <tr>\n",
       "      <th>420</th>\n",
       "      <td>0.74</td>\n",
       "      <td>18954.30</td>\n",
       "    </tr>\n",
       "  </tbody>\n",
       "</table>\n",
       "</div>"
      ],
      "text/plain": [
       "      r2     rmse\n",
       "406 0.74 18952.05\n",
       "408 0.74 18952.35\n",
       "407 0.74 18952.35\n",
       "409 0.74 18952.44\n",
       "410 0.74 18952.51\n",
       "411 0.74 18952.70\n",
       "419 0.74 18953.98\n",
       "417 0.74 18954.06\n",
       "418 0.74 18954.16\n",
       "420 0.74 18954.30"
      ]
     },
     "execution_count": 10,
     "metadata": {},
     "output_type": "execute_result"
    }
   ],
   "source": [
    "# check the top ten RMSE value results\n",
    "feature_scores.sort_values(by='rmse').head(10)"
   ]
  },
  {
   "cell_type": "markdown",
   "id": "97688fa1",
   "metadata": {},
   "source": [
    "Checking the results of the `SelectKBest` testing, a model with 406 variables seems to produce the best results."
   ]
  },
  {
   "cell_type": "markdown",
   "id": "e569644a",
   "metadata": {},
   "source": [
    "## Model creation and testing"
   ]
  },
  {
   "cell_type": "markdown",
   "id": "e74f9e56",
   "metadata": {},
   "source": [
    "Now that we know to use 406 variables, we can re-check our cross-validation results:"
   ]
  },
  {
   "cell_type": "code",
   "execution_count": 11,
   "id": "2022e04a",
   "metadata": {},
   "outputs": [
    {
     "name": "stdout",
     "output_type": "stream",
     "text": [
      "\n",
      "----- Cross Validation Results -----\n",
      "Train RMSE: 18671.68085122933\n",
      "Train RMSE as hours: 5.186578014230369\n",
      "Train R2: 0.7444475485541255\n",
      "Test RMSE: 18780.716818056364\n",
      "Test RMSE as hours: 5.216865782793435\n",
      "Test R2: 0.7413891601348425\n",
      "-------------------------------------\n",
      "\n"
     ]
    }
   ],
   "source": [
    "# re-check cross-validation for 406 features\n",
    "lr_model = make_pipeline(SelectKBest(f_regression, k=406), LinearRegression())\n",
    "\n",
    "# perform cross validation\n",
    "new_val_scores = cross_validate(lr_model, X_train, y_train, cv=kf, scoring=('r2', 'neg_mean_squared_error'), return_train_score=True)\n",
    "\n",
    "print(f\"\"\"\n",
    "----- Cross Validation Results -----\n",
    "Train RMSE: {np.sqrt(-new_val_scores['train_neg_mean_squared_error']).mean()}\n",
    "Train RMSE as hours: {np.sqrt(-new_val_scores['train_neg_mean_squared_error']).mean()/3600}\n",
    "Train R2: {new_val_scores['train_r2'].mean()}\n",
    "Test RMSE: {np.sqrt(-new_val_scores['test_neg_mean_squared_error']).mean()}\n",
    "Test RMSE as hours: {np.sqrt(-new_val_scores['test_neg_mean_squared_error']).mean()/3600}\n",
    "Test R2: {new_val_scores['test_r2'].mean()}\n",
    "-------------------------------------\n",
    "\"\"\")"
   ]
  },
  {
   "cell_type": "markdown",
   "id": "5fea357e",
   "metadata": {},
   "source": [
    "Now our test R2 and RMSE are a lot better, and nearly match the training results. So now the final model can be officially trained on the training data:"
   ]
  },
  {
   "cell_type": "code",
   "execution_count": 12,
   "id": "6a734fb2",
   "metadata": {},
   "outputs": [
    {
     "data": {
      "text/plain": [
       "Pipeline(steps=[('selectkbest',\n",
       "                 SelectKBest(k=406,\n",
       "                             score_func=<function f_regression at 0x7f833ae5d280>)),\n",
       "                ('linearregression', LinearRegression())])"
      ]
     },
     "execution_count": 12,
     "metadata": {},
     "output_type": "execute_result"
    }
   ],
   "source": [
    "# fit training data to final model\n",
    "lr_model.fit(X_train, y_train)"
   ]
  },
  {
   "cell_type": "markdown",
   "id": "433c1f5d",
   "metadata": {},
   "source": [
    "And finally, tested against the holdout testing data set:"
   ]
  },
  {
   "cell_type": "code",
   "execution_count": 13,
   "id": "8d04a9e3",
   "metadata": {},
   "outputs": [
    {
     "name": "stdout",
     "output_type": "stream",
     "text": [
      "\n",
      "----- Final Model Results -----\n",
      "R2: 0.74\n",
      "RMSE: 18952.05\n",
      "RMSE in hrs: 5.26\n",
      "-------------------------------\n",
      "\n"
     ]
    }
   ],
   "source": [
    "print(f\"\"\"\n",
    "----- Final Model Results -----\n",
    "R2: {round(lr_model.score(X_test, y_test), 2)}\n",
    "RMSE: {round(np.sqrt(metrics.mean_squared_error(y_test, lr_model.predict(X_test))), 2)}\n",
    "RMSE in hrs: {round(np.sqrt(metrics.mean_squared_error(y_test, lr_model.predict(X_test))) / 3600, 2)}\n",
    "-------------------------------\n",
    "\"\"\")"
   ]
  },
  {
   "cell_type": "markdown",
   "id": "73600557",
   "metadata": {},
   "source": [
    "This now produces model metrics similar to those seen in cross-validation, with an R2 of **74%** and an RMSE of **18952.05** seconds, or around **5.26** hours."
   ]
  },
  {
   "cell_type": "markdown",
   "id": "5f36f019",
   "metadata": {},
   "source": [
    "### Comparing to baseline"
   ]
  },
  {
   "cell_type": "markdown",
   "id": "b1261bed",
   "metadata": {},
   "source": [
    "~5 hours may be quite a wide margin for a race result - does our final model, at the very least, beat a baseline model that is just guessing with the mean?"
   ]
  },
  {
   "cell_type": "code",
   "execution_count": 14,
   "id": "f452983f",
   "metadata": {},
   "outputs": [
    {
     "name": "stdout",
     "output_type": "stream",
     "text": [
      "\n",
      "----- Dummy Model Results -----\n",
      "Dummy R2:-0.0\n",
      "Dummy RMSE: 36876.06\n",
      "Dummy RMSE in hrs: 10.24\n",
      "-------------------------------\n",
      "\n"
     ]
    }
   ],
   "source": [
    "# how does this model compare to a simple baseline?\n",
    "\n",
    "lr_dummy = make_pipeline(SelectKBest(f_regression, k=406), DummyRegressor(strategy='mean'))\n",
    "lr_dummy.fit(X_train, y_train)\n",
    "\n",
    "print(f\"\"\"\n",
    "----- Dummy Model Results -----\n",
    "Dummy R2:{round(lr_dummy.score(X_test, y_test), 2)}\n",
    "Dummy RMSE: {round(np.sqrt(metrics.mean_squared_error(y_test, lr_dummy.predict(X_test))), 2)}\n",
    "Dummy RMSE in hrs: {round(np.sqrt(metrics.mean_squared_error(y_test, lr_dummy.predict(X_test))) / 3600, 2)}\n",
    "-------------------------------\n",
    "\"\"\")"
   ]
  },
  {
   "cell_type": "markdown",
   "id": "53af4456",
   "metadata": {},
   "source": [
    "The model does improve upon a dummy baseline model, with a much stronger R2 and smaller RMSE."
   ]
  },
  {
   "cell_type": "markdown",
   "id": "ae25abf9",
   "metadata": {},
   "source": [
    "## Practical use"
   ]
  },
  {
   "cell_type": "markdown",
   "id": "8dc1be96",
   "metadata": {},
   "source": [
    "With all the dummy variables in the model, it would be difficult to manually enter an encoded set of data to specify an athletes nationality or a race location. Instead, a helper function can be used to enter new data for predictions:"
   ]
  },
  {
   "cell_type": "code",
   "execution_count": 15,
   "id": "f807e029",
   "metadata": {},
   "outputs": [],
   "source": [
    "# function to enter new data and get predicted finishing time back in human readable format\n",
    "def predict_new_runner(age, gender, nat, distance, elevation_gain, elevation_loss, aid_stations, participants, city):\n",
    "\t# create a dataframe with a single row and the same feature column names,\n",
    "\t# but populated only by zeroes\n",
    "\tbase = pd.DataFrame(np.zeros((1, len(X_train.columns)), dtype=np.int64), columns=X_train.columns)\n",
    "\n",
    "\t# set the values of the dataframe columns to the input values\n",
    "\tbase.runner_age = age\n",
    "\tbase.runner_gender = gender\n",
    "\tbase.distance = distance\n",
    "\tbase.elevation_gain = elevation_gain\n",
    "\tbase.elevation_loss = elevation_loss\n",
    "\tbase.aid_stations = aid_stations\n",
    "\tbase.participants = participants\n",
    "\t# check if the given nationality and city are already in the\n",
    "\t# feature cols and encode if so, otherwise skip\n",
    "\tnat_col = \"runner_nationality_\" + nat\n",
    "\tif (nat_col in base.columns):\n",
    "\t\tbase[nat_col] = 1\n",
    "\tcity_col = \"city_\" + city\n",
    "\tif (city_col in base.columns):\n",
    "\t\tbase[city_col] = 1\n",
    "\n",
    "\t# feed the new data to the model\n",
    "\ts = float(lr_model.predict(base))\n",
    "\n",
    "\t# assign a label to the gender data for nicer printing\n",
    "\tif (gender == 0): \n",
    "\t\tgender_label = 'male'\n",
    "\telse:\n",
    "\t\tgender_label = 'female'\n",
    "\n",
    "\t# workout total elevation change\n",
    "\tif ((elevation_gain - elevation_loss) > 0): \n",
    "\t\televation_label = 'gain'\n",
    "\telse:\n",
    "\t\televation_label = 'loss'\n",
    "\n",
    "\tprint(f\"\"\"\n",
    "\t----- Predicted Outcome -----\n",
    "\tFor a {age} year old {gender_label} from {nat}, running a {distance} km race in {city}\n",
    "\twith an elevation {elevation_label} of {abs(elevation_gain - elevation_loss)} ft, {participants} other runners, and {aid_stations} aid stations.\n",
    "\t\n",
    "\tPredicted finishing time: {pd.to_timedelta(s, unit='s')}\n",
    "\t-----------------------------\n",
    "\t\"\"\")"
   ]
  },
  {
   "cell_type": "markdown",
   "id": "10189e1f",
   "metadata": {},
   "source": [
    "This function can then be passed new data to form a prediction:"
   ]
  },
  {
   "cell_type": "code",
   "execution_count": 16,
   "id": "1a3ad0a2",
   "metadata": {},
   "outputs": [
    {
     "name": "stdout",
     "output_type": "stream",
     "text": [
      "\n",
      "\t----- Predicted Outcome -----\n",
      "\tFor a 20 year old male from GBR, running a 155 km race in Zagreb\n",
      "\twith an elevation gain of 600 ft, 100 other runners, and 10 aid stations.\n",
      "\t\n",
      "\tPredicted finishing time: 1 days 03:00:13.388959575\n",
      "\t-----------------------------\n",
      "\t\n"
     ]
    }
   ],
   "source": [
    "# enter new data for a prediction\n",
    "predict_new_runner(20, 0, \"GBR\", 155, 1000, 400, 10, 100, \"Zagreb\")"
   ]
  },
  {
   "cell_type": "markdown",
   "id": "fd1274c3",
   "metadata": {},
   "source": [
    "## Bonus - Ridge Regression\n",
    "\n",
    "After going through all of the above, I also discovered that using Ridge Regression instead of ordinary Linear Regression seemed to solve the issue with testing R2 without the need to use `SelectKBest`:"
   ]
  },
  {
   "cell_type": "code",
   "execution_count": 17,
   "id": "2a2a2fd6",
   "metadata": {},
   "outputs": [
    {
     "name": "stdout",
     "output_type": "stream",
     "text": [
      "\n",
      "----- Cross Validation Results -----\n",
      "Train RMSE: 18678.84421521424\n",
      "Train RMSE as hours: 5.1885678375595115\n",
      "Train R2: 0.7442513730579005\n",
      "Test RMSE: 18780.14212984383\n",
      "Test RMSE as hours: 5.216706147178841\n",
      "Test R2: 0.74140731798193\n",
      "-------------------------------------\n",
      "\n"
     ]
    }
   ],
   "source": [
    "from sklearn.linear_model import Ridge\n",
    "\n",
    "# instantiate Ridge Regression object\n",
    "rdg = Ridge()\n",
    "\n",
    "# perform cross validation for Ridge Regression model\n",
    "rdg_val_scores = cross_validate(rdg, X_train, y_train, cv=kf, scoring=('r2', 'neg_mean_squared_error'), return_train_score=True)\n",
    "\n",
    "print(f\"\"\"\n",
    "----- Cross Validation Results -----\n",
    "Train RMSE: {np.sqrt(-rdg_val_scores['train_neg_mean_squared_error']).mean()}\n",
    "Train RMSE as hours: {np.sqrt(-rdg_val_scores['train_neg_mean_squared_error']).mean()/3600}\n",
    "Train R2: {rdg_val_scores['train_r2'].mean()}\n",
    "Test RMSE: {np.sqrt(-rdg_val_scores['test_neg_mean_squared_error']).mean()}\n",
    "Test RMSE as hours: {np.sqrt(-rdg_val_scores['test_neg_mean_squared_error']).mean()/3600}\n",
    "Test R2: {rdg_val_scores['test_r2'].mean()}\n",
    "-------------------------------------\n",
    "\"\"\")"
   ]
  },
  {
   "cell_type": "code",
   "execution_count": 18,
   "id": "e4db79dc",
   "metadata": {},
   "outputs": [
    {
     "data": {
      "text/plain": [
       "0.7358820947052946"
      ]
     },
     "execution_count": 18,
     "metadata": {},
     "output_type": "execute_result"
    }
   ],
   "source": [
    "# fit Ridge Regression model\n",
    "rdg.fit(X_train, y_train)\n",
    "rdg.score(X_test, y_test)"
   ]
  },
  {
   "cell_type": "code",
   "execution_count": 19,
   "id": "dda214fd",
   "metadata": {},
   "outputs": [],
   "source": [
    "# function to enter new data and get predicted finishing time back\n",
    "# from Ridge Regression\tmodel in human readable format\n",
    "def rdg_predict_new_runner(age, gender, nat, distance, elevation_gain, elevation_loss, aid_stations, participants, city):\n",
    "\t# create a dataframe with a single row and the same feature column names,\n",
    "\t# but populated only by zeroes\n",
    "\tbase = pd.DataFrame(np.zeros((1, len(X_train.columns)), dtype=np.int64), columns=X_train.columns)\n",
    "\n",
    "\t# set the values of the dataframe columns to the input values\n",
    "\tbase.runner_age = age\n",
    "\tbase.runner_gender = gender\n",
    "\tbase.distance = distance\n",
    "\tbase.elevation_gain = elevation_gain\n",
    "\tbase.elevation_loss = elevation_loss\n",
    "\tbase.aid_stations = aid_stations\n",
    "\tbase.participants = participants\n",
    "\t# check if the given nationality and city are already in the\n",
    "\t# feature cols and encode if so, otherwise skip\n",
    "\tnat_col = \"runner_nationality_\" + nat\n",
    "\tif (nat_col in base.columns):\n",
    "\t\tbase[nat_col] = 1\n",
    "\tcity_col = \"city_\" + city\n",
    "\tif (city_col in base.columns):\n",
    "\t\tbase[city_col] = 1\n",
    "\n",
    "\t# feed the new data to the model\n",
    "\ts = float(rdg.predict(base))\n",
    "\n",
    "\t# assign a label to the gender data for nicer printing\n",
    "\tif (gender == 0): \n",
    "\t\tgender_label = 'male'\n",
    "\telse:\n",
    "\t\tgender_label = 'female'\n",
    "\n",
    "\t# workout total elevation change\n",
    "\tif ((elevation_gain - elevation_loss) > 0): \n",
    "\t\televation_label = 'gain'\n",
    "\telse:\n",
    "\t\televation_label = 'loss'\n",
    "\n",
    "\tprint(f\"\"\"\n",
    "\t----- Predicted Outcome -----\n",
    "\tFor a {age} year old {gender_label} from {nat}, running a {distance} km race in {city}\n",
    "\twith an elevation {elevation_label} of {abs(elevation_gain - elevation_loss)} ft, {participants} other runners, and {aid_stations} aid stations.\n",
    "\t\n",
    "\tPredicted finishing time: {pd.to_timedelta(s, unit='s')}\n",
    "\t-----------------------------\n",
    "\t\"\"\")"
   ]
  },
  {
   "cell_type": "code",
   "execution_count": 20,
   "id": "79b17735",
   "metadata": {},
   "outputs": [
    {
     "name": "stdout",
     "output_type": "stream",
     "text": [
      "\n",
      "\t----- Predicted Outcome -----\n",
      "\tFor a 20 year old male from GBR, running a 155 km race in Zagreb\n",
      "\twith an elevation gain of 600 ft, 100 other runners, and 10 aid stations.\n",
      "\t\n",
      "\tPredicted finishing time: 1 days 02:54:09.802431778\n",
      "\t-----------------------------\n",
      "\t\n"
     ]
    }
   ],
   "source": [
    "# enter new data for a prediction from Ridge model\n",
    "rdg_predict_new_runner(20, 0, \"GBR\", 155, 1000, 400, 10, 100, \"Zagreb\")"
   ]
  },
  {
   "cell_type": "markdown",
   "id": "21016e23",
   "metadata": {},
   "source": [
    "When using Ridge Regression, the predicted values for the same new data are not too far from the results of manual feature selection performed initially - 1 day 3 hrs vs. 1 day, 2 hrs and 54 mins."
   ]
  },
  {
   "cell_type": "markdown",
   "id": "5af9924e",
   "metadata": {},
   "source": [
    "---\n",
    "\n",
    "**Project Navigation:**\n",
    "\n",
    "[◂ EDA Brief](01-EDA-Brief.html) **|** [Presentation ▸](03-Presentation.html)"
   ]
  }
 ],
 "metadata": {
  "kernelspec": {
   "display_name": "Python 3",
   "language": "python",
   "name": "python3"
  },
  "language_info": {
   "codemirror_mode": {
    "name": "ipython",
    "version": 3
   },
   "file_extension": ".py",
   "mimetype": "text/x-python",
   "name": "python",
   "nbconvert_exporter": "python",
   "pygments_lexer": "ipython3",
   "version": "3.8.8"
  }
 },
 "nbformat": 4,
 "nbformat_minor": 5
}
